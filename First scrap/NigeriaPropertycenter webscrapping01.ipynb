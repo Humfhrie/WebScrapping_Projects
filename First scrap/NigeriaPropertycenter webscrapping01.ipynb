{
 "cells": [
  {
   "cell_type": "code",
   "execution_count": 1,
   "id": "85112b8f",
   "metadata": {},
   "outputs": [],
   "source": [
    "import numpy as np\n",
    "import pandas as pd\n",
    "import requests\n",
    "import re\n",
    "from bs4 import BeautifulSoup"
   ]
  },
  {
   "cell_type": "code",
   "execution_count": 2,
   "id": "4418e0c2",
   "metadata": {},
   "outputs": [
    {
     "name": "stdout",
     "output_type": "stream",
     "text": [
      "200\n"
     ]
    }
   ],
   "source": [
    "#url and Getting the Status_code\n",
    "url = url = \"https://nigeriapropertycentre.com/for-rent\"\n",
    "headers = {'User-Agent': 'Mozilla/5.0 (Windows NT 10.0; Win64; x64) AppleWebKit/537.36 (KHTML, like Gecko) Chrome/118.0.0.0 Safari/537.36'}\n",
    "response = requests.get(url, headers = headers)\n",
    "print(response.status_code)"
   ]
  },
  {
   "cell_type": "code",
   "execution_count": 3,
   "id": "b81c1f4f",
   "metadata": {},
   "outputs": [],
   "source": [
    "#Getting the content and also Parsing url into BeautifulSoup\n",
    "response = requests.get(url, headers=headers)\n",
    "response = response.content\n",
    "soup = BeautifulSoup(response, 'html.parser')"
   ]
  },
  {
   "cell_type": "code",
   "execution_count": 1,
   "id": "860a1f3d",
   "metadata": {},
   "outputs": [],
   "source": [
    "# #To display website html\n",
    "# res = soup.prettify()\n",
    "# print(res)"
   ]
  },
  {
   "cell_type": "code",
   "execution_count": 5,
   "id": "36685402",
   "metadata": {},
   "outputs": [],
   "source": [
    "#Creating an Empty list and range of pages to scrape\n",
    "lists = []\n",
    "for i in range(1, 1000):\n",
    "  url = f\"https://nigeriapropertycentre.com/for-rent?page={i}\"\n",
    "  headers = {'User-Agent': 'Mozilla/5.0 (Windows NT 10.0; Win64; x64) AppleWebKit/537.36 (KHTML, like Gecko) Chrome/118.0.0.0 Safari/537.36'}\n",
    "  response = requests.get(url, headers=headers)\n",
    "  soup = BeautifulSoup(response.content, \"html.parser\")\n",
    "\n",
    "  pages = soup.find_all('div', class_=\"wp-block property list\")\n",
    "  for page in pages:\n",
    "    description = page.find('h4', class_='content-title').get_text()\n",
    "    house_type = page.find('h3', itemprop=\"name\").get_text()\n",
    "    location = page.find('address', class_=\"voffset-bottom-10\").get_text()\n",
    "    prices = page.find_all('span', class_='price')\n",
    "    price = prices[1].get_text()\n",
    "    #print(house_type)\n",
    "    lists.append([description, house_type, location, price])"
   ]
  },
  {
   "cell_type": "code",
   "execution_count": 1,
   "id": "99530b16",
   "metadata": {},
   "outputs": [],
   "source": [
    "#print(lists)"
   ]
  },
  {
   "cell_type": "code",
   "execution_count": 7,
   "id": "9063fd09",
   "metadata": {},
   "outputs": [
    {
     "data": {
      "text/html": [
       "<div>\n",
       "<style scoped>\n",
       "    .dataframe tbody tr th:only-of-type {\n",
       "        vertical-align: middle;\n",
       "    }\n",
       "\n",
       "    .dataframe tbody tr th {\n",
       "        vertical-align: top;\n",
       "    }\n",
       "\n",
       "    .dataframe thead th {\n",
       "        text-align: right;\n",
       "    }\n",
       "</style>\n",
       "<table border=\"1\" class=\"dataframe\">\n",
       "  <thead>\n",
       "    <tr style=\"text-align: right;\">\n",
       "      <th></th>\n",
       "      <th>Description</th>\n",
       "      <th>House_type</th>\n",
       "      <th>Location</th>\n",
       "      <th>Price</th>\n",
       "    </tr>\n",
       "  </thead>\n",
       "  <tbody>\n",
       "    <tr>\n",
       "      <th>0</th>\n",
       "      <td>Office space for rent</td>\n",
       "      <td>180sqm Fully Partitioned, Furnished And Servic...</td>\n",
       "      <td>Sokode Crescent, Zone 5, Wuse, Abuja</td>\n",
       "      <td>5,300,000</td>\n",
       "    </tr>\n",
       "    <tr>\n",
       "      <th>1</th>\n",
       "      <td>1 bedroom mini flat (room and parlour) for rent</td>\n",
       "      <td>Clean And Spacious Miniflat</td>\n",
       "      <td>Ikate ( Salem), Lekki, Lagos</td>\n",
       "      <td>1,700,000</td>\n",
       "    </tr>\n",
       "    <tr>\n",
       "      <th>2</th>\n",
       "      <td>4 bedroom terraced duplex for rent</td>\n",
       "      <td>Luxury 4bedrooms Terrace House With A Room Bq</td>\n",
       "      <td>5, Chris Chapel Street, Lekki Scheme 1, Lekk...</td>\n",
       "      <td>8,500,000</td>\n",
       "    </tr>\n",
       "    <tr>\n",
       "      <th>3</th>\n",
       "      <td>4 bedroom terraced duplex for rent</td>\n",
       "      <td>Brand New 4 Bedroom Terrace Duplex With Privat...</td>\n",
       "      <td>Maitama Main, Maitama District, Abuja</td>\n",
       "      <td>25,000,000</td>\n",
       "    </tr>\n",
       "    <tr>\n",
       "      <th>4</th>\n",
       "      <td>3 bedroom flat / apartment for rent</td>\n",
       "      <td>Well Maintained Spacious 3 Bedrooms Apartment ...</td>\n",
       "      <td>Abioro Street, Ikate Elegushi, Lekki, Lagos</td>\n",
       "      <td>4,500,000</td>\n",
       "    </tr>\n",
       "  </tbody>\n",
       "</table>\n",
       "</div>"
      ],
      "text/plain": [
       "                                       Description  \\\n",
       "0                            Office space for rent   \n",
       "1  1 bedroom mini flat (room and parlour) for rent   \n",
       "2               4 bedroom terraced duplex for rent   \n",
       "3               4 bedroom terraced duplex for rent   \n",
       "4              3 bedroom flat / apartment for rent   \n",
       "\n",
       "                                          House_type  \\\n",
       "0  180sqm Fully Partitioned, Furnished And Servic...   \n",
       "1                        Clean And Spacious Miniflat   \n",
       "2      Luxury 4bedrooms Terrace House With A Room Bq   \n",
       "3  Brand New 4 Bedroom Terrace Duplex With Privat...   \n",
       "4  Well Maintained Spacious 3 Bedrooms Apartment ...   \n",
       "\n",
       "                                            Location       Price  \n",
       "0               Sokode Crescent, Zone 5, Wuse, Abuja   5,300,000  \n",
       "1                       Ikate ( Salem), Lekki, Lagos   1,700,000  \n",
       "2    5, Chris Chapel Street, Lekki Scheme 1, Lekk...   8,500,000  \n",
       "3              Maitama Main, Maitama District, Abuja  25,000,000  \n",
       "4        Abioro Street, Ikate Elegushi, Lekki, Lagos   4,500,000  "
      ]
     },
     "execution_count": 7,
     "metadata": {},
     "output_type": "execute_result"
    }
   ],
   "source": [
    "#getting scrapped data into a dataframe\n",
    "df = pd.DataFrame(lists, columns=['Description', 'House_type', 'Location', 'Price'])\n",
    "df.head()"
   ]
  },
  {
   "cell_type": "code",
   "execution_count": 8,
   "id": "82ac24ce",
   "metadata": {},
   "outputs": [
    {
     "data": {
      "text/plain": [
       "(20979, 4)"
      ]
     },
     "execution_count": 8,
     "metadata": {},
     "output_type": "execute_result"
    }
   ],
   "source": [
    "df.shape"
   ]
  },
  {
   "cell_type": "code",
   "execution_count": 9,
   "id": "ebf99a5d",
   "metadata": {},
   "outputs": [],
   "source": [
    "#converting scrapped data into a csv file\n",
    "df.to_csv('Nigeria_housing.csv', index=False)"
   ]
  },
  {
   "cell_type": "code",
   "execution_count": 10,
   "id": "b9f5bfdf",
   "metadata": {},
   "outputs": [
    {
     "data": {
      "text/html": [
       "<div>\n",
       "<style scoped>\n",
       "    .dataframe tbody tr th:only-of-type {\n",
       "        vertical-align: middle;\n",
       "    }\n",
       "\n",
       "    .dataframe tbody tr th {\n",
       "        vertical-align: top;\n",
       "    }\n",
       "\n",
       "    .dataframe thead th {\n",
       "        text-align: right;\n",
       "    }\n",
       "</style>\n",
       "<table border=\"1\" class=\"dataframe\">\n",
       "  <thead>\n",
       "    <tr style=\"text-align: right;\">\n",
       "      <th></th>\n",
       "      <th>Description</th>\n",
       "      <th>House_type</th>\n",
       "      <th>Location</th>\n",
       "      <th>Price</th>\n",
       "    </tr>\n",
       "  </thead>\n",
       "  <tbody>\n",
       "    <tr>\n",
       "      <th>0</th>\n",
       "      <td>Office space for rent</td>\n",
       "      <td>180sqm Fully Partitioned, Furnished And Servic...</td>\n",
       "      <td>Sokode Crescent, Zone 5, Wuse, Abuja</td>\n",
       "      <td>5,300,000</td>\n",
       "    </tr>\n",
       "    <tr>\n",
       "      <th>1</th>\n",
       "      <td>1 bedroom mini flat (room and parlour) for rent</td>\n",
       "      <td>Clean And Spacious Miniflat</td>\n",
       "      <td>Ikate ( Salem), Lekki, Lagos</td>\n",
       "      <td>1,700,000</td>\n",
       "    </tr>\n",
       "    <tr>\n",
       "      <th>2</th>\n",
       "      <td>4 bedroom terraced duplex for rent</td>\n",
       "      <td>Luxury 4bedrooms Terrace House With A Room Bq</td>\n",
       "      <td>5, Chris Chapel Street, Lekki Scheme 1, Lekk...</td>\n",
       "      <td>8,500,000</td>\n",
       "    </tr>\n",
       "    <tr>\n",
       "      <th>3</th>\n",
       "      <td>4 bedroom terraced duplex for rent</td>\n",
       "      <td>Brand New 4 Bedroom Terrace Duplex With Privat...</td>\n",
       "      <td>Maitama Main, Maitama District, Abuja</td>\n",
       "      <td>25,000,000</td>\n",
       "    </tr>\n",
       "    <tr>\n",
       "      <th>4</th>\n",
       "      <td>3 bedroom flat / apartment for rent</td>\n",
       "      <td>Well Maintained Spacious 3 Bedrooms Apartment ...</td>\n",
       "      <td>Abioro Street, Ikate Elegushi, Lekki, Lagos</td>\n",
       "      <td>4,500,000</td>\n",
       "    </tr>\n",
       "    <tr>\n",
       "      <th>...</th>\n",
       "      <td>...</td>\n",
       "      <td>...</td>\n",
       "      <td>...</td>\n",
       "      <td>...</td>\n",
       "    </tr>\n",
       "    <tr>\n",
       "      <th>20974</th>\n",
       "      <td>Plaza / complex / mall for rent</td>\n",
       "      <td>Newly Built Plaza</td>\n",
       "      <td>Dawaki, Gwarinpa, Abuja</td>\n",
       "      <td>25,000,000</td>\n",
       "    </tr>\n",
       "    <tr>\n",
       "      <th>20975</th>\n",
       "      <td>Self contain (single rooms) for rent</td>\n",
       "      <td>Standard Single Room, Self Contain</td>\n",
       "      <td>Peace Land Estate, Off Abraham Adesenya, Ogo...</td>\n",
       "      <td>400,000</td>\n",
       "    </tr>\n",
       "    <tr>\n",
       "      <th>20976</th>\n",
       "      <td>4 bedroom terraced duplex for rent</td>\n",
       "      <td>Standard 4 Bedroom Terrace Duplex With Bq</td>\n",
       "      <td>Around Living Faith Church, Jahi, Abuja</td>\n",
       "      <td>5,000,000</td>\n",
       "    </tr>\n",
       "    <tr>\n",
       "      <th>20977</th>\n",
       "      <td>3 bedroom detached bungalow for rent</td>\n",
       "      <td>Sharp 3 Bedroom Bungalow (alone In The Compound)</td>\n",
       "      <td>Gwarinpa Extension, Gwarinpa, Abuja</td>\n",
       "      <td>3,500,000</td>\n",
       "    </tr>\n",
       "    <tr>\n",
       "      <th>20978</th>\n",
       "      <td>1 bedroom mini flat (room and parlour) for rent</td>\n",
       "      <td>Neat Room Nd Parlor Self Contained All Tiles F...</td>\n",
       "      <td>Itele Close To Ayobo Lagos, Ado-Odo/Ota, Ogun</td>\n",
       "      <td>150,000</td>\n",
       "    </tr>\n",
       "  </tbody>\n",
       "</table>\n",
       "<p>20979 rows × 4 columns</p>\n",
       "</div>"
      ],
      "text/plain": [
       "                                           Description  \\\n",
       "0                                Office space for rent   \n",
       "1      1 bedroom mini flat (room and parlour) for rent   \n",
       "2                   4 bedroom terraced duplex for rent   \n",
       "3                   4 bedroom terraced duplex for rent   \n",
       "4                  3 bedroom flat / apartment for rent   \n",
       "...                                                ...   \n",
       "20974                  Plaza / complex / mall for rent   \n",
       "20975             Self contain (single rooms) for rent   \n",
       "20976               4 bedroom terraced duplex for rent   \n",
       "20977             3 bedroom detached bungalow for rent   \n",
       "20978  1 bedroom mini flat (room and parlour) for rent   \n",
       "\n",
       "                                              House_type  \\\n",
       "0      180sqm Fully Partitioned, Furnished And Servic...   \n",
       "1                            Clean And Spacious Miniflat   \n",
       "2          Luxury 4bedrooms Terrace House With A Room Bq   \n",
       "3      Brand New 4 Bedroom Terrace Duplex With Privat...   \n",
       "4      Well Maintained Spacious 3 Bedrooms Apartment ...   \n",
       "...                                                  ...   \n",
       "20974                                  Newly Built Plaza   \n",
       "20975                 Standard Single Room, Self Contain   \n",
       "20976          Standard 4 Bedroom Terrace Duplex With Bq   \n",
       "20977   Sharp 3 Bedroom Bungalow (alone In The Compound)   \n",
       "20978  Neat Room Nd Parlor Self Contained All Tiles F...   \n",
       "\n",
       "                                                Location       Price  \n",
       "0                   Sokode Crescent, Zone 5, Wuse, Abuja   5,300,000  \n",
       "1                           Ikate ( Salem), Lekki, Lagos   1,700,000  \n",
       "2        5, Chris Chapel Street, Lekki Scheme 1, Lekk...   8,500,000  \n",
       "3                  Maitama Main, Maitama District, Abuja  25,000,000  \n",
       "4            Abioro Street, Ikate Elegushi, Lekki, Lagos   4,500,000  \n",
       "...                                                  ...         ...  \n",
       "20974                            Dawaki, Gwarinpa, Abuja  25,000,000  \n",
       "20975    Peace Land Estate, Off Abraham Adesenya, Ogo...     400,000  \n",
       "20976            Around Living Faith Church, Jahi, Abuja   5,000,000  \n",
       "20977                Gwarinpa Extension, Gwarinpa, Abuja   3,500,000  \n",
       "20978      Itele Close To Ayobo Lagos, Ado-Odo/Ota, Ogun     150,000  \n",
       "\n",
       "[20979 rows x 4 columns]"
      ]
     },
     "execution_count": 10,
     "metadata": {},
     "output_type": "execute_result"
    }
   ],
   "source": [
    "df"
   ]
  },
  {
   "cell_type": "code",
   "execution_count": null,
   "id": "2e86abc1",
   "metadata": {},
   "outputs": [],
   "source": []
  },
  {
   "cell_type": "code",
   "execution_count": null,
   "id": "2c3eda44",
   "metadata": {},
   "outputs": [],
   "source": []
  }
 ],
 "metadata": {
  "kernelspec": {
   "display_name": "Python 3 (ipykernel)",
   "language": "python",
   "name": "python3"
  },
  "language_info": {
   "codemirror_mode": {
    "name": "ipython",
    "version": 3
   },
   "file_extension": ".py",
   "mimetype": "text/x-python",
   "name": "python",
   "nbconvert_exporter": "python",
   "pygments_lexer": "ipython3",
   "version": "3.10.9"
  }
 },
 "nbformat": 4,
 "nbformat_minor": 5
}
